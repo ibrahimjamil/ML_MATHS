{
  "nbformat": 4,
  "nbformat_minor": 0,
  "metadata": {
    "colab": {
      "provenance": [],
      "authorship_tag": "ABX9TyPpft1C/yqLfKmkAdMnS4Si",
      "include_colab_link": true
    },
    "kernelspec": {
      "name": "python3",
      "display_name": "Python 3"
    },
    "language_info": {
      "name": "python"
    }
  },
  "cells": [
    {
      "cell_type": "markdown",
      "metadata": {
        "id": "view-in-github",
        "colab_type": "text"
      },
      "source": [
        "<a href=\"https://colab.research.google.com/github/ibrahimjamil/ML_MATHS/blob/main/linear_algebra.ipynb\" target=\"_parent\"><img src=\"https://colab.research.google.com/assets/colab-badge.svg\" alt=\"Open In Colab\"/></a>"
      ]
    },
    {
      "cell_type": "code",
      "execution_count": null,
      "metadata": {
        "colab": {
          "base_uri": "https://localhost:8080/"
        },
        "id": "zpGFELyhWeC5",
        "outputId": "4034a640-2f7c-40f8-c6c9-8e588cb8a139"
      },
      "outputs": [
        {
          "output_type": "stream",
          "name": "stdout",
          "text": [
            "TypeError:  unsupported operand type(s) for ** or pow(): 'str' and 'int'\n"
          ]
        }
      ],
      "source": [
        "def square(x):\n",
        "  return x ** 2\n",
        "\n",
        "try:\n",
        "  square(\"a\")\n",
        "except TypeError as e:\n",
        "  print(\"TypeError: \", e)"
      ]
    },
    {
      "cell_type": "markdown",
      "source": [],
      "metadata": {
        "id": "URTIHyRJZH6f"
      }
    },
    {
      "cell_type": "code",
      "source": [
        "def square(x: int) -> int:\n",
        "  return x ** 2\n",
        "\n",
        "try:\n",
        "  square(\"2\")\n",
        "except TypeError as e:\n",
        "  print(\"TypeError: \", e)"
      ],
      "metadata": {
        "colab": {
          "base_uri": "https://localhost:8080/"
        },
        "id": "2JGK5fXCYa3_",
        "outputId": "07e463e0-26c3-46b6-fd81-36a715a11752"
      },
      "execution_count": null,
      "outputs": [
        {
          "output_type": "stream",
          "name": "stdout",
          "text": [
            "TypeError:  unsupported operand type(s) for ** or pow(): 'str' and 'int'\n"
          ]
        }
      ]
    },
    {
      "cell_type": "code",
      "source": [
        "import numpy as np\n",
        "\n",
        "matrix = np.array([[1, 2], [3, 4], [5, 6]])  # 3 x 2 matrix\n",
        "vector = np.array([7, 8])  # length 2 vector\n",
        "tensor = np.array([\n",
        "    [[1, 2], [3, 4], [5, 6]],\n",
        "    [[7, 8], [9, 10], [11, 12]]\n",
        "])\n",
        "\n",
        "print(matrix @ vector)  # length 3 vector\n",
        "print(tensor.shape)\n",
        "try:\n",
        "  vector = np.array([7, 8, 9])  # length 3 vector\n",
        "  print(matrix @ vector)\n",
        "except ValueError as e:\n",
        "  print(\"ValueError:\", e)"
      ],
      "metadata": {
        "colab": {
          "base_uri": "https://localhost:8080/"
        },
        "id": "M0H8Xuj0Za53",
        "outputId": "315d62b1-4f26-4f27-d073-5fb94257fc4f"
      },
      "execution_count": null,
      "outputs": [
        {
          "output_type": "stream",
          "name": "stdout",
          "text": [
            "[23 53 83]\n",
            "(2, 3, 2)\n",
            "ValueError: matmul: Input operand 1 has a mismatch in its core dimension 0, with gufunc signature (n?,k),(k,m?)->(n?,m?) (size 3 is different from 2)\n"
          ]
        }
      ]
    },
    {
      "cell_type": "code",
      "source": [
        "import numpy as np\n",
        "set_second_to_zero = np.array([[1, 0],\n",
        "                               [0, 0]])\n",
        "vector = [10, 1]\n",
        "print((set_second_to_zero @ vector))\n",
        "assert (set_second_to_zero @ vector)[1] == 0\n",
        "\n",
        "W = np.array([[1, 2], [-1, 1]])\n",
        "X = np.array([[1/10, 1/5], [1/4, 1]])\n",
        "Y = np.array([[3, 1], [0.1, 0]])\n",
        "Z = np.array([[1, 0], [0, 1]])\n",
        "\n",
        "def their_pipeline(v):\n",
        "    after_W = np.matmul(W, v)\n",
        "    after_X = np.matmul(X, after_W)\n",
        "    after_Y = Y @ after_X\n",
        "    after_Z = Z @ after_Y\n",
        "    return after_Z\n",
        "\n",
        "V = [1,0]  # define V here\n",
        "\n",
        "print(their_pipeline(V))\n",
        "\n",
        "batch_of_vectors = np.array([[1, 3, 5, 7], [1, 3, 5, 7]])\n",
        "print(batch_of_vectors)\n",
        "\n",
        "print(batch_of_vectors.T.shape)\n",
        "\n",
        "for vector in batch_of_vectors.T:  # by default, numpy iterates over rows, but we want cols\n",
        "  print(vector)\n",
        "\n",
        "matrix = np.array([[1, 2], [3, 4], [5, 6], [7, 8]])\n",
        "rows = [row for row in matrix]  # split the matrix into 4 rows with shape (2, 1)\n",
        "\n",
        "vector = [3, 5]\n",
        "print(rows, matrix @ vector, [row @ vector for row in rows])\n",
        "np.allclose(matrix @ vector,\n",
        "np.hstack([row @ vector for row in rows]))\n",
        "print(np.hstack([row @ vector for row in rows]), [row @ vector for row in rows])"
      ],
      "metadata": {
        "colab": {
          "base_uri": "https://localhost:8080/"
        },
        "id": "PboXIwicyLFW",
        "outputId": "73082ae2-2a4a-46cd-87ec-e709ccb1ffee"
      },
      "execution_count": null,
      "outputs": [
        {
          "output_type": "stream",
          "name": "stdout",
          "text": [
            "[10  0]\n",
            "[-1.05 -0.01]\n",
            "[[1 3 5 7]\n",
            " [1 3 5 7]]\n",
            "(4, 2)\n",
            "[1 1]\n",
            "[3 3]\n",
            "[5 5]\n",
            "[7 7]\n",
            "[array([1, 2]), array([3, 4]), array([5, 6]), array([7, 8])] [13 29 45 61] [np.int64(13), np.int64(29), np.int64(45), np.int64(61)]\n",
            "[13 29 45 61] [np.int64(13), np.int64(29), np.int64(45), np.int64(61)]\n"
          ]
        }
      ]
    },
    {
      "cell_type": "code",
      "source": [
        "import numpy as np\n",
        "matrix = np.array([[1, 2], [3, 4], [5, 6], [7, 8]])\n",
        "splits = matrix[:2], matrix[2:]  # split matrix into two matrices of shape (2, 2)\n",
        "print(matrix)\n",
        "print(splits)\n",
        "\n",
        "vector = [3, 5]\n",
        "print(matrix @ vector, [split @ vector for split in splits])\n",
        "\n",
        "np.allclose(matrix @ vector,\n",
        "            np.hstack([split @ vector for split in splits]))\n",
        "\n",
        "arrays = [np.array([[1, 2], [3, 4]]), np.array([[5, 6], [7, 8]])]\n",
        "print(arrays)\n",
        "\n",
        "print(np.concatenate(arrays))"
      ],
      "metadata": {
        "colab": {
          "base_uri": "https://localhost:8080/"
        },
        "id": "1eWzHoU6ss-L",
        "outputId": "821329d5-7727-416d-9ad8-f5e29d9f7f36"
      },
      "execution_count": null,
      "outputs": [
        {
          "output_type": "stream",
          "name": "stdout",
          "text": [
            "[[1 2]\n",
            " [3 4]\n",
            " [5 6]\n",
            " [7 8]]\n",
            "(array([[1, 2],\n",
            "       [3, 4]]), array([[5, 6],\n",
            "       [7, 8]]))\n",
            "[13 29 45 61] [array([13, 29]), array([45, 61])]\n",
            "[array([[1, 2],\n",
            "       [3, 4]]), array([[5, 6],\n",
            "       [7, 8]])]\n",
            "[[1 2]\n",
            " [3 4]\n",
            " [5 6]\n",
            " [7 8]]\n"
          ]
        }
      ]
    }
  ]
}